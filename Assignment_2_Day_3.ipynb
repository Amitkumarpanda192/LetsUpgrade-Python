{
  "nbformat": 4,
  "nbformat_minor": 0,
  "metadata": {
    "colab": {
      "name": "Assignment-2-Day -3.ipynb",
      "provenance": [],
      "authorship_tag": "ABX9TyNOYmOnWPjC55IS2SSKOqoL",
      "include_colab_link": true
    },
    "kernelspec": {
      "name": "python3",
      "display_name": "Python 3"
    }
  },
  "cells": [
    {
      "cell_type": "markdown",
      "metadata": {
        "id": "view-in-github",
        "colab_type": "text"
      },
      "source": [
        "<a href=\"https://colab.research.google.com/github/Amitkumarpanda192/LetsUpgrade-Python/blob/master/Assignment_2_Day_3.ipynb\" target=\"_parent\"><img src=\"https://colab.research.google.com/assets/colab-badge.svg\" alt=\"Open In Colab\"/></a>"
      ]
    },
    {
      "cell_type": "markdown",
      "metadata": {
        "id": "oDQGNmKAbwtQ",
        "colab_type": "text"
      },
      "source": [
        "**Prime number in between 1 to 200**"
      ]
    },
    {
      "cell_type": "code",
      "metadata": {
        "id": "dGMeolcLbiqt",
        "colab_type": "code",
        "colab": {
          "base_uri": "https://localhost:8080/",
          "height": 55
        },
        "outputId": "7ecaed4c-24c3-4b9e-f4c8-71e44b469238"
      },
      "source": [
        "\n",
        "for num in range(2,200):\n",
        "  flag =0\n",
        "  for i in range(2,num//2):\n",
        "    if num % i == 0:\n",
        "      break\n",
        "  else:\n",
        "    print(num,end =',')"
      ],
      "execution_count": 25,
      "outputs": [
        {
          "output_type": "stream",
          "text": [
            "2,3,4,5,7,11,13,17,19,23,29,31,37,41,43,47,53,59,61,67,71,73,79,83,89,97,101,103,107,109,113,127,131,137,139,149,151,157,163,167,173,179,181,191,193,197,199,"
          ],
          "name": "stdout"
        }
      ]
    }
  ]
}