{
 "metadata": {
  "language_info": {
   "codemirror_mode": {
    "name": "ipython",
    "version": 3
   },
   "file_extension": ".py",
   "mimetype": "text/x-python",
   "name": "python",
   "nbconvert_exporter": "python",
   "pygments_lexer": "ipython3",
   "version": "3.8.5-final"
  },
  "orig_nbformat": 2,
  "kernelspec": {
   "name": "python_defaultSpec_1599753462945",
   "display_name": "Python 3.8.5 32-bit"
  }
 },
 "nbformat": 4,
 "nbformat_minor": 2,
 "cells": [
  {
   "cell_type": "code",
   "execution_count": 1,
   "metadata": {
    "tags": []
   },
   "outputs": [
    {
     "output_type": "stream",
     "name": "stdout",
     "text": "it's a match\nit's gone\n"
    }
   ],
   "source": [
    "def show(givenlist):\n",
    "    sublist = [1,1,5]\n",
    "    flag = 0\n",
    "    for i in sublist:\n",
    "        for j in givenlist:\n",
    "            if i == j:\n",
    "                flag +=1\n",
    "                del givenlist[0:givenlist.index(j)+1]\n",
    "    if flag == 3:\n",
    "        print('it\\'s a match')\n",
    "    else:\n",
    "        print('it\\'s gone')\n",
    "\n",
    "show([1,5,4,1,2,3,5])\n",
    "show([1,5,6,5,1,2,3,6])"
   ]
  },
  {
   "cell_type": "code",
   "execution_count": null,
   "metadata": {},
   "outputs": [],
   "source": []
  }
 ]
}