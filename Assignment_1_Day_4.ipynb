{
  "nbformat": 4,
  "nbformat_minor": 0,
  "metadata": {
    "colab": {
      "name": "Assignment-1-Day-4.ipynb",
      "provenance": [],
      "collapsed_sections": [],
      "authorship_tag": "ABX9TyNrLdLlhfjtV9EvggxeCyQg",
      "include_colab_link": true
    },
    "kernelspec": {
      "name": "python3",
      "display_name": "Python 3"
    }
  },
  "cells": [
    {
      "cell_type": "markdown",
      "metadata": {
        "id": "view-in-github",
        "colab_type": "text"
      },
      "source": [
        "<a href=\"https://colab.research.google.com/github/Amitkumarpanda192/LetsUpgrade-Python/blob/master/Assignment_1_Day_4.ipynb\" target=\"_parent\"><img src=\"https://colab.research.google.com/assets/colab-badge.svg\" alt=\"Open In Colab\"/></a>"
      ]
    },
    {
      "cell_type": "code",
      "metadata": {
        "id": "uWPkeP8XhqZ0",
        "colab_type": "code",
        "colab": {}
      },
      "source": [
        "\n",
        "sum=0\n",
        "for i in range(1042000,702648265):\n",
        "    num1=i\n",
        "    order = len(str(num1))\n",
        "    while(num1>0):\n",
        "        r = num1 % 10\n",
        "        sum = sum + (r**order)\n",
        "        num1 = num1 //10\n",
        "    if(i == sum):\n",
        "      print(i)\n",
        "      break\n",
        "    "
      ],
      "execution_count": 2,
      "outputs": []
    }
  ]
}