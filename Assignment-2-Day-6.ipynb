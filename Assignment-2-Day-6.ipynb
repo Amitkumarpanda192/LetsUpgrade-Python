{
 "metadata": {
  "language_info": {
   "codemirror_mode": {
    "name": "ipython",
    "version": 3
   },
   "file_extension": ".py",
   "mimetype": "text/x-python",
   "name": "python",
   "nbconvert_exporter": "python",
   "pygments_lexer": "ipython3",
   "version": "3.8.5-final"
  },
  "orig_nbformat": 2,
  "kernelspec": {
   "name": "python_defaultSpec_1599989657203",
   "display_name": "Python 3.8.5 32-bit"
  }
 },
 "nbformat": 4,
 "nbformat_minor": 2,
 "cells": [
  {
   "cell_type": "code",
   "execution_count": 2,
   "metadata": {},
   "outputs": [],
   "source": [
    "import math\n",
    "class cone():\n",
    "    def __init__(self,radius,height):\n",
    "        self.radius = radius\n",
    "        self.height  = height\n",
    "    def volume(self):\n",
    "        print(\"volume - \",math.pi*self.radius*self.radius*(self.height/3))\n",
    "    def surface_area(self):\n",
    "        print(\"base -  \",math.pi*self.radius*self.radius)\n",
    "        print(\"side - \",math.pi*self.radius*math.sqrt(self.radius**2 + self.height**2))\n",
    "    \n"
   ]
  },
  {
   "cell_type": "code",
   "execution_count": 4,
   "metadata": {},
   "outputs": [],
   "source": [
    "result = cone(12,12)"
   ]
  },
  {
   "cell_type": "code",
   "execution_count": 5,
   "metadata": {
    "tags": []
   },
   "outputs": [
    {
     "output_type": "stream",
     "name": "stdout",
     "text": "volume -  1809.5573684677208\n"
    }
   ],
   "source": [
    "result.volume()"
   ]
  },
  {
   "cell_type": "code",
   "execution_count": 7,
   "metadata": {
    "tags": []
   },
   "outputs": [
    {
     "output_type": "stream",
     "name": "stdout",
     "text": "base -   452.3893421169302\nside -  639.7751430948047\n"
    }
   ],
   "source": [
    "result.surface_area()"
   ]
  },
  {
   "cell_type": "code",
   "execution_count": null,
   "metadata": {},
   "outputs": [],
   "source": []
  }
 ]
}