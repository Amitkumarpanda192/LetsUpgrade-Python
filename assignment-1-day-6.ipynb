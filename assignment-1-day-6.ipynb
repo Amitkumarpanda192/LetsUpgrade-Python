{
 "metadata": {
  "language_info": {
   "codemirror_mode": {
    "name": "ipython",
    "version": 3
   },
   "file_extension": ".py",
   "mimetype": "text/x-python",
   "name": "python",
   "nbconvert_exporter": "python",
   "pygments_lexer": "ipython3",
   "version": "3.8.5-final"
  },
  "orig_nbformat": 2,
  "kernelspec": {
   "name": "python_defaultSpec_1599986885476",
   "display_name": "Python 3.8.5 32-bit"
  }
 },
 "nbformat": 4,
 "nbformat_minor": 2,
 "cells": [
  {
   "cell_type": "code",
   "execution_count": 24,
   "metadata": {},
   "outputs": [],
   "source": [
    "class bankAccount():\n",
    "    def __init__(self,ownerName,balance):\n",
    "        self.ownerName = ownerName\n",
    "        self.balance = balance\n",
    "    def deposit(self):\n",
    "        amount = float(input('Enter amount to be deposited - '))\n",
    "        self.balance += amount\n",
    "        print('Successfully deposited {0} rs'.format(amount))\n",
    "        print('Balance is - ',self.balance)\n",
    "    def withdraw(self):\n",
    "        amount = float(input(\"Enter the amount to be withdrawn - \"))\n",
    "        if amount <= self.balance:\n",
    "            self.balance -= amount\n",
    "            print('The {0} is successfully withdrawn by the user'.format(amount))\n",
    "        else:\n",
    "            print(' insufficient balance')\n",
    "    def availBalance(self):\n",
    "        print('total balance is - ',self.balance)"
   ]
  },
  {
   "cell_type": "code",
   "execution_count": 25,
   "metadata": {
    "tags": []
   },
   "outputs": [
    {
     "output_type": "stream",
     "name": "stdout",
     "text": "Successfully deposited 10000.0 rs\nBalance is -  20000.0\n"
    }
   ],
   "source": [
    "user1 = bankAccount('amit',10000)\n",
    "user1.deposit()\n",
    "\n"
   ]
  },
  {
   "cell_type": "code",
   "execution_count": 26,
   "metadata": {
    "tags": []
   },
   "outputs": [
    {
     "output_type": "stream",
     "name": "stdout",
     "text": "The 20000.0 is successfully withdrawn by the user\n"
    }
   ],
   "source": [
    "user1.withdraw()"
   ]
  },
  {
   "cell_type": "code",
   "execution_count": 27,
   "metadata": {
    "tags": []
   },
   "outputs": [
    {
     "output_type": "stream",
     "name": "stdout",
     "text": "total balance is -  0.0\n"
    }
   ],
   "source": [
    "user1.availBalance()"
   ]
  },
  {
   "cell_type": "code",
   "execution_count": null,
   "metadata": {},
   "outputs": [],
   "source": []
  }
 ]
}